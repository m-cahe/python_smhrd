{
 "cells": [
  {
   "cell_type": "markdown",
   "metadata": {},
   "source": [
    "# 조건문"
   ]
  },
  {
   "cell_type": "code",
   "execution_count": 9,
   "metadata": {},
   "outputs": [
    {
     "name": "stdout",
     "output_type": "stream",
     "text": [
      "점수를 입력하세요: 55\n",
      "F학점\n"
     ]
    }
   ],
   "source": [
    "score = int(input('점수를 입력하세요: '))\n",
    "\n",
    "# 90점 이상-> a학점\n",
    "# 80~90점-> b학점\n",
    "\n",
    "if score >= 90:\n",
    "    print('A학점')\n",
    "elif score >= 80:\n",
    "    print('B학점')\n",
    "elif score >= 70:\n",
    "    print('C학점')\n",
    "elif score >= 60:\n",
    "    print('D학점')\n",
    "else:\n",
    "    print('F학점')"
   ]
  },
  {
   "cell_type": "markdown",
   "metadata": {},
   "source": [
    "# 반복문"
   ]
  },
  {
   "cell_type": "code",
   "execution_count": 12,
   "metadata": {},
   "outputs": [
    {
     "name": "stdout",
     "output_type": "stream",
     "text": [
      "0 1 2 3 4 5 6 7 8 9 "
     ]
    }
   ],
   "source": [
    "i = 0\n",
    "\n",
    "while i<10:\n",
    "    print(i, end=' ')\n",
    "    i+=1\n",
    "    \n",
    "    #end=' ', end =\\n , end=\\t\n",
    "    "
   ]
  },
  {
   "cell_type": "code",
   "execution_count": 26,
   "metadata": {},
   "outputs": [
    {
     "name": "stdout",
     "output_type": "stream",
     "text": [
      "0 1 2 3 4 5 6 7 8 9 "
     ]
    }
   ],
   "source": [
    "j=0\n",
    "\n",
    "while True:\n",
    "    print( j , end = ' ')\n",
    "    j += 1\n",
    "    \n",
    "    #j가 0-9까지만 출력되게 브레이크문 걸기\n",
    "    if j == 10:\n",
    "        break"
   ]
  },
  {
   "cell_type": "markdown",
   "metadata": {},
   "source": [
    "# for"
   ]
  },
  {
   "cell_type": "code",
   "execution_count": 29,
   "metadata": {},
   "outputs": [
    {
     "name": "stdout",
     "output_type": "stream",
     "text": [
      "1\n",
      "2\n",
      "3\n",
      "4\n",
      "5\n"
     ]
    }
   ],
   "source": [
    "# for 변수 in 리스트(혹은 튜플, 문자열)\n",
    "\n",
    "array = [1, 2, 3, 4, 5]\n",
    "for i in array:\n",
    "    print(i)"
   ]
  },
  {
   "cell_type": "code",
   "execution_count": 38,
   "metadata": {},
   "outputs": [
    {
     "name": "stdout",
     "output_type": "stream",
     "text": [
      "나\n",
      "예\n",
      "호\n"
     ]
    }
   ],
   "source": [
    "name = '나예호'\n",
    "for i in name:\n",
    "    print(i)"
   ]
  },
  {
   "cell_type": "code",
   "execution_count": 47,
   "metadata": {},
   "outputs": [
    {
     "name": "stdout",
     "output_type": "stream",
     "text": [
      "5\n"
     ]
    }
   ],
   "source": [
    "# 1부터 10까지 for 문을 이용해서 출력\n",
    "# range(시작값, 끝값+1, 증가값)\n",
    "u = 5\n",
    "\n",
    "\n",
    "\n",
    "        \n"
   ]
  },
  {
   "cell_type": "code",
   "execution_count": 58,
   "metadata": {},
   "outputs": [
    {
     "name": "stdout",
     "output_type": "stream",
     "text": [
      "1\n",
      "1 \n",
      "2 \n",
      "2\n",
      "1 \n",
      "2 \n",
      "3\n",
      "1 \n",
      "2 \n",
      "4\n",
      "1 \n",
      "2 \n",
      "5\n",
      "1 \n",
      "2 \n",
      "6\n",
      "1 \n",
      "2 \n",
      "7\n",
      "1 \n",
      "2 \n",
      "8\n",
      "1 \n",
      "2 \n",
      "9\n",
      "1 \n",
      "2 \n",
      "10\n",
      "1 \n",
      "2 \n",
      "12345678910"
     ]
    }
   ],
   "source": [
    "for i in range(1, 11, 1):\n",
    "    print(i, end = \"\\n\")\n",
    "    for y in range(1, 3, 1):\n",
    "        \n",
    "        print(y, end = \" \")\n",
    "        mulitline =1\n",
    "        \n",
    "        \n",
    "for j in range(1, 11):\n",
    "    print( j, end = '')\n",
    "        \n",
    "            "
   ]
  },
  {
   "cell_type": "code",
   "execution_count": null,
   "metadata": {},
   "outputs": [],
   "source": []
  }
 ],
 "metadata": {
  "kernelspec": {
   "display_name": "Python 3",
   "language": "python",
   "name": "python3"
  },
  "language_info": {
   "codemirror_mode": {
    "name": "ipython",
    "version": 3
   },
   "file_extension": ".py",
   "mimetype": "text/x-python",
   "name": "python",
   "nbconvert_exporter": "python",
   "pygments_lexer": "ipython3",
   "version": "3.8.3"
  }
 },
 "nbformat": 4,
 "nbformat_minor": 4
}
