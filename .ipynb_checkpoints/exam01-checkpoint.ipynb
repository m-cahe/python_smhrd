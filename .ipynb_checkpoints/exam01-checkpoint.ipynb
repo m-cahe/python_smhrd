{
 "cells": [
  {
   "cell_type": "code",
   "execution_count": null,
   "metadata": {
    "scrolled": true
   },
   "outputs": [],
   "source": [
    "x=10\n",
    "y=5\n",
    "\n",
    "print(x+y)"
   ]
  },
  {
   "cell_type": "code",
   "execution_count": 1,
   "metadata": {},
   "outputs": [
    {
     "ename": "NameError",
     "evalue": "name 'x' is not defined",
     "output_type": "error",
     "traceback": [
      "\u001b[1;31m---------------------------------------------------------------------------\u001b[0m",
      "\u001b[1;31mNameError\u001b[0m                                 Traceback (most recent call last)",
      "\u001b[1;32m<ipython-input-1-3099640f8514>\u001b[0m in \u001b[0;36m<module>\u001b[1;34m\u001b[0m\n\u001b[0;32m      1\u001b[0m \u001b[0mz\u001b[0m\u001b[1;33m=\u001b[0m\u001b[1;36m20\u001b[0m\u001b[1;33m\u001b[0m\u001b[1;33m\u001b[0m\u001b[0m\n\u001b[0;32m      2\u001b[0m \u001b[1;33m\u001b[0m\u001b[0m\n\u001b[1;32m----> 3\u001b[1;33m \u001b[0mprint\u001b[0m\u001b[1;33m(\u001b[0m\u001b[0mx\u001b[0m\u001b[1;33m+\u001b[0m\u001b[0my\u001b[0m\u001b[1;33m+\u001b[0m\u001b[0mz\u001b[0m\u001b[1;33m)\u001b[0m\u001b[1;33m\u001b[0m\u001b[1;33m\u001b[0m\u001b[0m\n\u001b[0m",
      "\u001b[1;31mNameError\u001b[0m: name 'x' is not defined"
     ]
    }
   ],
   "source": [
    "z=20\n",
    "\n",
    "print(x+y+z)"
   ]
  },
  {
   "cell_type": "code",
   "execution_count": 5,
   "metadata": {},
   "outputs": [
    {
     "name": "stdout",
     "output_type": "stream",
     "text": [
      "이름을 입력하세요나예호\n",
      "당신의 이름은나예호입니다\n"
     ]
    }
   ],
   "source": [
    "#입력\n",
    "name =input(\"이름을 입력하세요\")\n",
    "\n",
    "\n",
    "print('당신의 이름은' + name + '입니다')"
   ]
  },
  {
   "cell_type": "code",
   "execution_count": 13,
   "metadata": {},
   "outputs": [
    {
     "name": "stdout",
     "output_type": "stream",
     "text": [
      "나예호 은 19 살 입니다\n",
      "나예호은19입니다\n"
     ]
    }
   ],
   "source": [
    "age = 19\n",
    "\n",
    "print(name,'은' , str(age) , '살 입니다')\n",
    "\n",
    "print(name+'은' + str(age) + '입니다')"
   ]
  },
  {
   "cell_type": "code",
   "execution_count": 15,
   "metadata": {},
   "outputs": [
    {
     "ename": "TypeError",
     "evalue": "can only concatenate str (not \"int\") to str",
     "output_type": "error",
     "traceback": [
      "\u001b[1;31m---------------------------------------------------------------------------\u001b[0m",
      "\u001b[1;31mTypeError\u001b[0m                                 Traceback (most recent call last)",
      "\u001b[1;32m<ipython-input-15-58f7eaa073b6>\u001b[0m in \u001b[0;36m<module>\u001b[1;34m\u001b[0m\n\u001b[0;32m      1\u001b[0m \u001b[0mnum1\u001b[0m \u001b[1;33m=\u001b[0m \u001b[1;34m'3'\u001b[0m\u001b[1;33m\u001b[0m\u001b[1;33m\u001b[0m\u001b[0m\n\u001b[0;32m      2\u001b[0m \u001b[0mnum2\u001b[0m \u001b[1;33m=\u001b[0m \u001b[1;36m5\u001b[0m\u001b[1;33m\u001b[0m\u001b[1;33m\u001b[0m\u001b[0m\n\u001b[1;32m----> 3\u001b[1;33m \u001b[0mnum1\u001b[0m\u001b[1;33m+\u001b[0m\u001b[0mnum2\u001b[0m\u001b[1;33m\u001b[0m\u001b[1;33m\u001b[0m\u001b[0m\n\u001b[0m",
      "\u001b[1;31mTypeError\u001b[0m: can only concatenate str (not \"int\") to str"
     ]
    }
   ],
   "source": [
    "num1 = '3'\n",
    "num2 = 5\n",
    "num1+num2"
   ]
  },
  {
   "cell_type": "code",
   "execution_count": 19,
   "metadata": {},
   "outputs": [
    {
     "name": "stdout",
     "output_type": "stream",
     "text": [
      "첫번째 정수 입력: 20\n",
      "두번째 정수 입력: 30\n",
      "20과30의 합은50입니다\n",
      "20과 30의 합은 50입니다\n"
     ]
    }
   ],
   "source": [
    "num1 = int(input('첫번째 정수 입력: '))\n",
    "num2 = int(input('두번째 정수 입력: '))\n",
    "print(str(num1) + '과' + str(num2) + '의 합은' + str(num1+num2) + '입니다')\n",
    "\n",
    "print('{}과 {}의 합은 {}입니다'.format(num1, num2, num1+num2))\n"
   ]
  },
  {
   "cell_type": "code",
   "execution_count": 24,
   "metadata": {
    "scrolled": true
   },
   "outputs": [
    {
     "name": "stdout",
     "output_type": "stream",
     "text": [
      "첫번째 정수 입력: 10\n",
      "두번째 정수 입력: 3\n",
      "나눗셈 몫: 3\n",
      "나눗셈 나머지: 1\n"
     ]
    }
   ],
   "source": [
    "num1 = int(input('첫번째 정수 입력: '))\n",
    "num2 = int(input('두번째 정수 입력: '))\n",
    "\n",
    "#몫 출력\n",
    "print('나눗셈 몫: {}'.format(num1//num2))\n",
    "\n",
    "print('나눗셈 나머지: {}'. format(num1%num2))"
   ]
  },
  {
   "cell_type": "code",
   "execution_count": 30,
   "metadata": {},
   "outputs": [
    {
     "name": "stdout",
     "output_type": "stream",
     "text": [
      "초 입력: 7300\n",
      "초 입력: 7300\n",
      "h: 2 m: 1 ss: 40\n"
     ]
    }
   ],
   "source": [
    "s = int(input('초 입력: '))\n",
    "\n",
    "h = int(s // 3600)\n",
    "m = int(s%3600) // 60\n",
    "ss = int(s%3600) % 60\n",
    "\n",
    "\n",
    "print('초 입력: {}'.format(s))\n",
    "print('h: {} m: {} ss: {}'. format(h, m, ss))"
   ]
  },
  {
   "cell_type": "markdown",
   "metadata": {},
   "source": [
    "# 리스트 = [요소1, 요소2, 요소3]"
   ]
  },
  {
   "cell_type": "code",
   "execution_count": 32,
   "metadata": {},
   "outputs": [],
   "source": [
    "a = []\n",
    "b = [1, 2, 3]\n",
    "c = ['Life', 'is', 'too', 'short']\n",
    "d = [1, 2, 'Life', 'is']\n",
    "e = [1, 2, ['Life','is']]"
   ]
  },
  {
   "cell_type": "code",
   "execution_count": 41,
   "metadata": {},
   "outputs": [
    {
     "name": "stdout",
     "output_type": "stream",
     "text": [
      "2\n",
      "Life\n",
      "Life is\n",
      "['Life', 'is']\n"
     ]
    }
   ],
   "source": [
    "# 리스트명[인덱스]->인덱싱: b에 있는 2번 인덱스(2) 출력\n",
    "print(b[1])\n",
    "print(e[2][0])\n",
    "print(c[0] ,c[1])\n",
    "\n",
    "# :으로 요소들에 접근하는 방식: 슬라이싱\n",
    "# 숫자1: 숫자2 -> 요소 1부터 요소2 앞까지\n",
    "print(c[0:2])\n"
   ]
  },
  {
   "cell_type": "code",
   "execution_count": 45,
   "metadata": {},
   "outputs": [
    {
     "name": "stdout",
     "output_type": "stream",
     "text": [
      "[50, 34, 30, 20]\n",
      "[10, 40, 50, 34, 30]\n",
      "[10, 40, 50, 34, 30]\n",
      "[34, 30, 20, 26, 90]\n"
     ]
    }
   ],
   "source": [
    "list2 = [10, 40, 50, 34, 30, 20, 26, 90]\n",
    "\n",
    "# 50부터 20까지 요소를 가져와주세요\n",
    "print(list2[2:6])\n",
    "\n",
    "# 10부터 30까지 요소를 가져와주세요\n",
    "# 처음부터 30까지 요소를 가져와주세요\n",
    "print(list2[0:5])\n",
    "print(list2[0:5])\n",
    "\n",
    "# 34부터 끝까지 요소를 가져와주세요\n",
    "print(list2[3:])\n",
    "\n"
   ]
  },
  {
   "cell_type": "code",
   "execution_count": 53,
   "metadata": {},
   "outputs": [
    {
     "name": "stdout",
     "output_type": "stream",
     "text": [
      "['랍스타']\n",
      "['얼큰수제비', '불족발']\n"
     ]
    }
   ],
   "source": [
    "list3 = ['소고기짬뽕','치킨', '낙지덮밥', '얼큰수제비', '불족발', '랍스타']\n",
    "\n",
    "#인덱싱 통해서 랍스타 출력하기\n",
    "print(list3[-1:])\n",
    "\n",
    "#뒤에서부터 3번째 음식(얼큰수제비)부터\n",
    "#뒤에서부터 2번째 음식(불족발까지 출력하기)\n",
    "print(list3[-3:-1])"
   ]
  },
  {
   "cell_type": "code",
   "execution_count": 66,
   "metadata": {},
   "outputs": [
    {
     "name": "stdout",
     "output_type": "stream",
     "text": [
      "[3, ['a', 'b', 'c'], 4]\n",
      "[3, ['a', 'b', 'c'], 4]\n",
      "['a', 'b']\n",
      "['a', 'b']\n"
     ]
    }
   ],
   "source": [
    "array = [1, 2, 3, ['a', 'b', 'c'], 4, 5]\n",
    "\n",
    "#[3, ['a', 'b', 'c'], 4]만 출력\n",
    "print(array[2:5])\n",
    "print(array[-4:-1])\n",
    "\n",
    "#['a', 'b']만 출력\n",
    "print(array[3][0:2])\n",
    "print(array[-3][0:2])\n"
   ]
  },
  {
   "cell_type": "code",
   "execution_count": 78,
   "metadata": {},
   "outputs": [
    {
     "name": "stdout",
     "output_type": "stream",
     "text": [
      "Python is very easy\n",
      "'Python is very easy.' he said\n",
      "Life is too short. \n",
      "You need Python\n"
     ]
    }
   ],
   "source": [
    "# Python is very easy\n",
    "\n",
    "str2 = 'Python is very easy'\n",
    "print(str2)\n",
    "\n",
    "# str3 =  \"Python is very easy 'he said'\"\n",
    "str3 = '\\'Python is very easy.\\' he said'\n",
    "print(str3)\n",
    "\n",
    "# \\n, \\t사용(줄 바꿈)\n",
    "multiline = 'Life is too short. \\nYou need Python'\n",
    "print(multiline)"
   ]
  },
  {
   "cell_type": "markdown",
   "metadata": {},
   "source": [
    "# dictionary"
   ]
  },
  {
   "cell_type": "code",
   "execution_count": 79,
   "metadata": {},
   "outputs": [],
   "source": [
    "dic = {'name' : '나예호', 'age' : '21', 'tel' : '010-0000-0000'}"
   ]
  },
  {
   "cell_type": "code",
   "execution_count": 80,
   "metadata": {},
   "outputs": [
    {
     "name": "stdout",
     "output_type": "stream",
     "text": [
      "{'name': '나예호', 'age': '21', '연락처': '010-0000-0000'}\n"
     ]
    }
   ],
   "source": [
    "print(dic)"
   ]
  },
  {
   "cell_type": "code",
   "execution_count": 85,
   "metadata": {},
   "outputs": [
    {
     "name": "stdout",
     "output_type": "stream",
     "text": [
      "나예호\n",
      "21\n",
      "010-0000-0000\n",
      "None\n"
     ]
    }
   ],
   "source": [
    "# key값이 name인 value를 가지고 오자\n",
    "\n",
    "print(dic['name'])\n",
    "print(dic['age'])\n",
    "print(dic['연락처'])\n",
    "\n",
    "print(dic.get('tel'))"
   ]
  }
 ],
 "metadata": {
  "kernelspec": {
   "display_name": "Python 3",
   "language": "python",
   "name": "python3"
  },
  "language_info": {
   "codemirror_mode": {
    "name": "ipython",
    "version": 3
   },
   "file_extension": ".py",
   "mimetype": "text/x-python",
   "name": "python",
   "nbconvert_exporter": "python",
   "pygments_lexer": "ipython3",
   "version": "3.8.3"
  }
 },
 "nbformat": 4,
 "nbformat_minor": 4
}
