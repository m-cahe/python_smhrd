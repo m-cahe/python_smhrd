{
 "cells": [
  {
   "cell_type": "markdown",
   "metadata": {},
   "source": [
    "## 이스케이프 코드\n",
    "\\n : 개행\n",
    "\\t : 수평 탭\n",
    "\\ : 문자 \\\n",
    "' : 단일 인용부호\n",
    "\" : 이중 인용부호"
   ]
  },
  {
   "cell_type": "code",
   "execution_count": 14,
   "metadata": {},
   "outputs": [
    {
     "name": "stdout",
     "output_type": "stream",
     "text": [
      "가나다\n",
      "라마바사\n"
     ]
    }
   ],
   "source": [
    "s = '가나다\\n라마바사'\n",
    "print(s)"
   ]
  },
  {
   "cell_type": "code",
   "execution_count": null,
   "metadata": {},
   "outputs": [],
   "source": []
  },
  {
   "cell_type": "markdown",
   "metadata": {},
   "source": [
    "## 인덱싱 슬라이싱\n",
    "-.[인덱스 번호]: 해당 인덱스 값 출력\n",
    "-.[시작인덱스 번호:끝나는 인덱스 다음번호]. : 해당 범위의 값 출력\n",
    "-.[:인덱스]. :"
   ]
  },
  {
   "cell_type": "code",
   "execution_count": 4,
   "metadata": {},
   "outputs": [],
   "source": [
    "name = 'my name is MH'"
   ]
  },
  {
   "cell_type": "code",
   "execution_count": 6,
   "metadata": {},
   "outputs": [
    {
     "name": "stdout",
     "output_type": "stream",
     "text": [
      "y\n",
      "y\n"
     ]
    }
   ],
   "source": [
    "# Y가져오기\n",
    "\n",
    "print(name[1])\n",
    "print(name[-12])"
   ]
  },
  {
   "cell_type": "code",
   "execution_count": 7,
   "metadata": {},
   "outputs": [
    {
     "name": "stdout",
     "output_type": "stream",
     "text": [
      "MH\n",
      "MH\n"
     ]
    }
   ],
   "source": [
    "# 이름 가져오기\n",
    "print(name[11:13])\n",
    "print(name[-2:])"
   ]
  },
  {
   "cell_type": "markdown",
   "metadata": {},
   "source": [
    "## 포메팅\n",
    "-포멧 기능 : %\n",
    "-포멧 함수 : .format"
   ]
  },
  {
   "cell_type": "code",
   "execution_count": null,
   "metadata": {},
   "outputs": [],
   "source": [
    "# %s :문자열\n",
    "# %c :문자 1개\n",
    "# %d :정수\n",
    "# %f :실수"
   ]
  },
  {
   "cell_type": "code",
   "execution_count": 9,
   "metadata": {},
   "outputs": [
    {
     "name": "stdout",
     "output_type": "stream",
     "text": [
      "오늘 날짜는 3월 21일 입니다\n"
     ]
    }
   ],
   "source": [
    "month = 3\n",
    "day = 21\n",
    "\n",
    "date1 = '오늘 날짜는 %d월 %d일 입니다'%(month,day)\n",
    "print(date1)"
   ]
  },
  {
   "cell_type": "code",
   "execution_count": 10,
   "metadata": {},
   "outputs": [
    {
     "name": "stdout",
     "output_type": "stream",
     "text": [
      "오늘 날짜는 1월 20일 입니다\n"
     ]
    }
   ],
   "source": [
    "month = 1\n",
    "day = 24\n",
    "\n",
    "date2 = '오늘 날짜는 {}월 {}일 입니다'.format(month,day)\n",
    "print(date2)"
   ]
  },
  {
   "cell_type": "markdown",
   "metadata": {},
   "source": [
    "### 유용한 함수\n",
    "\n",
    "- replace : 문자열 바꾸기\n",
    "- split : 문자열 나누기\n",
    "- count : 문자 개수 세기\n",
    "- find : 문자 위치 찾기"
   ]
  },
  {
   "cell_type": "code",
   "execution_count": 16,
   "metadata": {},
   "outputs": [],
   "source": [
    "name = '이명훈'\n",
    "name.replace('이','E') #출력하고 저장은 하지 않음\n",
    "name = name.replace('이','E')"
   ]
  },
  {
   "cell_type": "code",
   "execution_count": 29,
   "metadata": {},
   "outputs": [],
   "source": [
    "name ='이 명훈'\n",
    "\n",
    "list1 = name.split(' ') #나눌 기준이 되는 값"
   ]
  },
  {
   "cell_type": "code",
   "execution_count": 31,
   "metadata": {},
   "outputs": [
    {
     "name": "stdout",
     "output_type": "stream",
     "text": [
      "이\n",
      "명훈\n"
     ]
    }
   ],
   "source": [
    "print(list1[0])\n",
    "print(list1[1])"
   ]
  },
  {
   "cell_type": "code",
   "execution_count": null,
   "metadata": {},
   "outputs": [],
   "source": []
  },
  {
   "cell_type": "code",
   "execution_count": 24,
   "metadata": {},
   "outputs": [],
   "source": [
    "first_name = list1[0]"
   ]
  },
  {
   "cell_type": "code",
   "execution_count": 20,
   "metadata": {},
   "outputs": [
    {
     "data": {
      "text/plain": [
       "1"
      ]
     },
     "execution_count": 20,
     "metadata": {},
     "output_type": "execute_result"
    }
   ],
   "source": [
    "name = '이명훈'\n",
    "#찾고자 하는 값이 없으면 0 출력\n",
    "name.count('이')"
   ]
  },
  {
   "cell_type": "code",
   "execution_count": 33,
   "metadata": {},
   "outputs": [
    {
     "data": {
      "text/plain": [
       "0"
      ]
     },
     "execution_count": 33,
     "metadata": {},
     "output_type": "execute_result"
    }
   ],
   "source": [
    "name = '이명훈'\n",
    "name.find('이') #인덱스 번호가 출력  #-1값은 문자열 내 찾는 문자가 없을 때 출력\n",
    "                #찾는 글자가 시작하는 문자 name.find('이명')이라고 해도 0출력"
   ]
  },
  {
   "cell_type": "markdown",
   "metadata": {},
   "source": [
    "## 리스트\n",
    "- append(값) : 맨 뒤에 값 추가\n",
    "- insert(인덱스 번호, 값) : 인덱스 위치에 값 추가\n",
    "- remove(값) : 값 삭제"
   ]
  },
  {
   "cell_type": "code",
   "execution_count": 39,
   "metadata": {},
   "outputs": [],
   "source": [
    "list2 = [1,2,3,4,5]"
   ]
  },
  {
   "cell_type": "code",
   "execution_count": 50,
   "metadata": {},
   "outputs": [
    {
     "data": {
      "text/plain": [
       "[1, 2, 3, 4, 5, 6, 6]"
      ]
     },
     "execution_count": 50,
     "metadata": {},
     "output_type": "execute_result"
    }
   ],
   "source": [
    "# 맨 뒤에 6추가\n",
    "\n",
    "list2.append(6) #저장이 자동으로 된다\n",
    "list2"
   ]
  },
  {
   "cell_type": "code",
   "execution_count": 56,
   "metadata": {},
   "outputs": [
    {
     "data": {
      "text/plain": [
       "[-1, 1, 2, 3, 4, 5, 6]"
      ]
     },
     "execution_count": 56,
     "metadata": {},
     "output_type": "execute_result"
    }
   ],
   "source": [
    "#맨 앞에 -1추가\n",
    "list2.insert(0,-1)\n",
    "list2"
   ]
  },
  {
   "cell_type": "code",
   "execution_count": 57,
   "metadata": {},
   "outputs": [],
   "source": [
    "#앞에 있는 -1삭제\n",
    "list2.remove(-1)\n",
    "list2\n",
    "list2.remove(6)"
   ]
  },
  {
   "cell_type": "markdown",
   "metadata": {},
   "source": [
    "# 튜플\n",
    "- 리스트와 유사\n",
    "- 값을 수정할 수 없다 //절대 수정하면 안되는 데이터일때 사용\n",
    "- ()"
   ]
  },
  {
   "cell_type": "code",
   "execution_count": 59,
   "metadata": {},
   "outputs": [],
   "source": [
    "tup = (1,2,3,4,5)"
   ]
  },
  {
   "cell_type": "code",
   "execution_count": 61,
   "metadata": {},
   "outputs": [
    {
     "data": {
      "text/plain": [
       "1"
      ]
     },
     "execution_count": 61,
     "metadata": {},
     "output_type": "execute_result"
    }
   ],
   "source": [
    "tup[0]"
   ]
  },
  {
   "cell_type": "markdown",
   "metadata": {},
   "source": [
    "# 딕셔너리\n",
    "- {key : Value, key : Value, key : Value, key : Value}\n",
    "- key:하나의 값,\n",
    "- value: 여러가지 값"
   ]
  },
  {
   "cell_type": "code",
   "execution_count": 89,
   "metadata": {},
   "outputs": [],
   "source": [
    "dic1={'이름' : ['이명훈','나예호'],\n",
    "       '과목' : ['파이썬','자바']}"
   ]
  },
  {
   "cell_type": "code",
   "execution_count": 68,
   "metadata": {},
   "outputs": [
    {
     "data": {
      "text/plain": [
       "['이명훈', '나예호']"
      ]
     },
     "execution_count": 68,
     "metadata": {},
     "output_type": "execute_result"
    }
   ],
   "source": [
    "#key를 찾으면 Value값이 출력: #key값이 없으면 error\n",
    "dic1['이름']   "
   ]
  },
  {
   "cell_type": "code",
   "execution_count": 76,
   "metadata": {},
   "outputs": [
    {
     "data": {
      "text/plain": [
       "['이명훈', '나예호']"
      ]
     },
     "execution_count": 76,
     "metadata": {},
     "output_type": "execute_result"
    }
   ],
   "source": [
    "                   #key값이 없으면 None을 띄운다\n",
    "dic1.get('이름')"
   ]
  },
  {
   "cell_type": "code",
   "execution_count": 77,
   "metadata": {},
   "outputs": [
    {
     "data": {
      "text/plain": [
       "dict_keys(['이름'])"
      ]
     },
     "execution_count": 77,
     "metadata": {},
     "output_type": "execute_result"
    }
   ],
   "source": [
    "#key값만 검색\n",
    "dic1.keys()"
   ]
  },
  {
   "cell_type": "code",
   "execution_count": 91,
   "metadata": {},
   "outputs": [
    {
     "data": {
      "text/plain": [
       "dict_values([['이명훈', '나예호'], ['파이썬', '자바'], ['21', '22']])"
      ]
     },
     "execution_count": 91,
     "metadata": {},
     "output_type": "execute_result"
    }
   ],
   "source": [
    "#value값만 검색\n",
    "dic1.values()"
   ]
  },
  {
   "cell_type": "code",
   "execution_count": 94,
   "metadata": {},
   "outputs": [
    {
     "data": {
      "text/plain": [
       "{'이름': ['이명훈', '나예호'], '과목': ['파이썬', '자바'], '나이': ['21', '22']}"
      ]
     },
     "execution_count": 94,
     "metadata": {},
     "output_type": "execute_result"
    }
   ],
   "source": [
    "# 값 추가\n",
    "# dic[key] = Value\n",
    "dic1['나이'] = ['21','22']\n",
    "dic1"
   ]
  },
  {
   "cell_type": "code",
   "execution_count": 93,
   "metadata": {},
   "outputs": [
    {
     "data": {
      "text/plain": [
       "{'이름': ['이명훈', '나예호'], '과목': ['파이썬', '자바']}"
      ]
     },
     "execution_count": 93,
     "metadata": {},
     "output_type": "execute_result"
    }
   ],
   "source": [
    "# 값 삭제\n",
    "# key값 입력\n",
    "del dic1['나이']\n",
    "dic1"
   ]
  },
  {
   "cell_type": "markdown",
   "metadata": {},
   "source": [
    "## 랜덤 값으로 만들기\n",
    "- np.random(배열의 크기) : 0~1까지의 랜덤 값 사용\n",
    "- np.random.randint(시작하는 수, 끝나는 다음수, 배열의 크기)\n",
    " - 시작수~끝수까지 범위를 찾는 랜덤한 값 사용"
   ]
  },
  {
   "cell_type": "code",
   "execution_count": 3,
   "metadata": {},
   "outputs": [],
   "source": [
    "import numpy as np"
   ]
  },
  {
   "cell_type": "code",
   "execution_count": 4,
   "metadata": {},
   "outputs": [
    {
     "data": {
      "text/plain": [
       "array([[0.29861321, 0.45692455, 0.08999507],\n",
       "       [0.16824507, 0.33285183, 0.20290939]])"
      ]
     },
     "execution_count": 4,
     "metadata": {},
     "output_type": "execute_result"
    }
   ],
   "source": [
    "np.random.rand(2,3)"
   ]
  },
  {
   "cell_type": "code",
   "execution_count": 5,
   "metadata": {},
   "outputs": [
    {
     "data": {
      "text/plain": [
       "array([[8, 5, 9],\n",
       "       [6, 2, 4]])"
      ]
     },
     "execution_count": 5,
     "metadata": {},
     "output_type": "execute_result"
    }
   ],
   "source": [
    "np.random.randint(2, 10, size =(2,3))"
   ]
  },
  {
   "cell_type": "markdown",
   "metadata": {},
   "source": [
    "### 타입 변경하기\n",
    "- dtpye: 배열 생성 전에 타입변경\n",
    "- astype: 배열 생성된 후 타입 변경(변수.astype('바뀔 형태'))"
   ]
  },
  {
   "cell_type": "code",
   "execution_count": 8,
   "metadata": {},
   "outputs": [
    {
     "name": "stdout",
     "output_type": "stream",
     "text": [
      "float64\n"
     ]
    },
    {
     "data": {
      "text/plain": [
       "array([1, 2, 3])"
      ]
     },
     "execution_count": 8,
     "metadata": {},
     "output_type": "execute_result"
    }
   ],
   "source": [
    "arr = np.array([1.2, 2.3, 3.4])\n",
    "print(arr.dtype)\n",
    "arr\n",
    "\n",
    "arr = arr.astype('int32') #바뀐 값을 출력만 함 -> 변수에 따로 저장해야 한다\n",
    "arr"
   ]
  },
  {
   "cell_type": "markdown",
   "metadata": {},
   "source": [
    "# 배열연산\n",
    "- 배열끼리 연산\n",
    "- 배열 안에서 연산\n",
    "- 인덱싱, 슬라이싱"
   ]
  },
  {
   "cell_type": "code",
   "execution_count": 13,
   "metadata": {},
   "outputs": [],
   "source": [
    "# 2차원 array\n",
    "# [[1,2,3],[4,5,6]]\n",
    "\n",
    "array_e = np.array([[1,2,3],[4,5,6]])\n",
    "array_t = np.array([[7,8,9],[10,11,12]])"
   ]
  },
  {
   "cell_type": "code",
   "execution_count": 17,
   "metadata": {},
   "outputs": [
    {
     "name": "stdout",
     "output_type": "stream",
     "text": [
      "[[ 8 10 12]\n",
      " [14 16 18]]\n",
      "[[0 0 0]\n",
      " [0 0 0]]\n"
     ]
    }
   ],
   "source": [
    "print(array_e + array_t)\n",
    "\n",
    "print(array_e // array_t)"
   ]
  },
  {
   "cell_type": "code",
   "execution_count": 20,
   "metadata": {},
   "outputs": [
    {
     "data": {
      "text/plain": [
       "(2, 3)"
      ]
     },
     "execution_count": 20,
     "metadata": {},
     "output_type": "execute_result"
    }
   ],
   "source": [
    "# 인덱싱\n",
    "# 큰 차원부터 접근: 차원의 개수만큼만 적어주기 array_e[0,1]\n",
    "array_e.shape"
   ]
  },
  {
   "cell_type": "code",
   "execution_count": 23,
   "metadata": {},
   "outputs": [
    {
     "data": {
      "text/plain": [
       "2"
      ]
     },
     "execution_count": 23,
     "metadata": {},
     "output_type": "execute_result"
    }
   ],
   "source": [
    "array_e[0,1]\n",
    "# 방법2: array_e[0][1]"
   ]
  }
 ],
 "metadata": {
  "kernelspec": {
   "display_name": "Python 3",
   "language": "python",
   "name": "python3"
  },
  "language_info": {
   "codemirror_mode": {
    "name": "ipython",
    "version": 3
   },
   "file_extension": ".py",
   "mimetype": "text/x-python",
   "name": "python",
   "nbconvert_exporter": "python",
   "pygments_lexer": "ipython3",
   "version": "3.8.3"
  }
 },
 "nbformat": 4,
 "nbformat_minor": 4
}
